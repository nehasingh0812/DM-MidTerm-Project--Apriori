{
  "nbformat": 4,
  "nbformat_minor": 0,
  "metadata": {
    "colab": {
      "name": "Apriori.ipynb",
      "provenance": [],
      "collapsed_sections": []
    },
    "kernelspec": {
      "display_name": "Python 3",
      "name": "python3"
    },
    "language_info": {
      "name": "python"
    }
  },
  "cells": [
    {
      "cell_type": "code",
      "metadata": {
        "id": "T7_x_mMHxc5E",
        "colab": {
          "base_uri": "https://localhost:8080/"
        },
        "outputId": "6e0290a3-587f-40ba-d528-477a9b0b9275"
      },
      "source": [
        "cd '/content/drive/MyDrive/Project'/"
      ],
      "execution_count": null,
      "outputs": [
        {
          "output_type": "stream",
          "name": "stdout",
          "text": [
            "/content/drive/MyDrive/Project\n"
          ]
        }
      ]
    },
    {
      "cell_type": "markdown",
      "metadata": {
        "id": "xJWGZugLwCe5"
      },
      "source": [
        ""
      ]
    },
    {
      "cell_type": "code",
      "metadata": {
        "id": "7c9evXbxxrJ6",
        "colab": {
          "base_uri": "https://localhost:8080/"
        },
        "outputId": "509d0c9a-82f1-4533-fb04-5b7a3cb31b4a"
      },
      "source": [
        "ls"
      ],
      "execution_count": null,
      "outputs": [
        {
          "output_type": "stream",
          "name": "stdout",
          "text": [
            "Amazon.txt     BestBuy.txt  KMart.txt          Nike.txt\n",
            "Apriori.ipynb  Generic.txt  my_midtermproj.py\n"
          ]
        }
      ]
    },
    {
      "cell_type": "code",
      "metadata": {
        "colab": {
          "base_uri": "https://localhost:8080/"
        },
        "id": "qWZWWf0Bxsly",
        "outputId": "96dfda7c-aa61-495c-99f5-c731da13498b"
      },
      "source": [
        "from itertools import permutations\n",
        "from itertools import combinations\n",
        "\n",
        "print(\"\\n\",\"Welcome to Anusha's Apriori Algorithm Implementation. \", '\\n',\n",
        "      \"This program will take input data of transactions from you and \", '\\n',\n",
        "      \"give you the most frequent association rules with your product lines in return. \", '\\n',\n",
        "      \"This can give you an idea about what products sell in a combination following them can maximize your profit. \", \"\\n\")\n",
        "\n",
        "filename = input(\"Enter File/Data Type:\")\n",
        "fileobject = open(filename, \"r\", encoding=\"UTF-8\",errors=\"surrogateescape\")\n",
        "input_data = fileobject.readlines()"
      ],
      "execution_count": null,
      "outputs": [
        {
          "name": "stdout",
          "output_type": "stream",
          "text": [
            "\n",
            " Welcome to Anusha's Apriori Algorithm Implementation.  \n",
            " This program will take input data of transactions from you and  \n",
            " give you the most frequent association rules with your product lines in return.  \n",
            " This can give you an idea about what products sell in a combination following them can maximize your profit.  \n",
            "\n",
            "Enter File/Data Type:Nike.txt\n"
          ]
        }
      ]
    },
    {
      "cell_type": "code",
      "metadata": {
        "id": "nBaEN5MhyNq6"
      },
      "source": [
        "## Transforming the dataset\n",
        "final_data = []\n",
        "for lines in range(1,len(input_data)):\n",
        "    input_data[lines] = input_data[lines].replace(\"\\n\",\"\")\n",
        "    final_data.append(input_data[lines].split(','))\n",
        "\n",
        "## Transforming final_data\n",
        "for i in range(len(final_data)):\n",
        "  final_data[i] = final_data[i][1:]"
      ],
      "execution_count": null,
      "outputs": []
    },
    {
      "cell_type": "code",
      "metadata": {
        "colab": {
          "base_uri": "https://localhost:8080/"
        },
        "id": "8DG-bzmOyTfE",
        "outputId": "376efe76-e246-413d-e27c-1bc0960d8260"
      },
      "source": [
        "print(\"\\n\",\"This is the dataset you entered:\", \"\\n\", \"\\n\", final_data, '\\n')"
      ],
      "execution_count": null,
      "outputs": [
        {
          "output_type": "stream",
          "name": "stdout",
          "text": [
            "\n",
            " This is the dataset you entered: \n",
            " \n",
            " [[' Running Shoe', ' Socks', ' Sweatshirts', ' Modern Pants'], [' Running Shoe', ' Socks', ' Sweatshirts'], [' Running Shoe', ' Socks', ' Sweatshirts', ' Modern Pants'], [' Running Shoe', ' Sweatshirts', ' Modern Pants'], [' Running Shoe', ' Socks', ' Sweatshirts', ' Modern Pants', ' Soccer Shoe'], [' Running Shoe', ' Socks', ' Sweatshirts'], [' Running Shoe', ' Socks', ' Sweatshirts', ' Modern Pants', ' Tech Pants', ' Rash Guard', ' Hoodies'], [' Swimming Shirt', ' Socks', ' Sweatshirts'], [' Swimming Shirt', ' Rash Guard', ' Dry Fit V-Nick', ' Hoodies', ' Tech Pants'], [' Swimming Shirt', ' Rash Guard', ' Dry'], [' Swimming Shirt', ' Rash Guard', ' Dry Fit V-Nick'], [' Running Shoe', ' Swimming Shirt', ' Socks', ' Sweatshirts', ' Modern Pants', ' Soccer Shoe', ' Rash Guard', ' Hoodies', ' Tech Pants', ' Dry Fit V-Nick'], [' Running Shoe', ' Swimming Shirt', ' Socks', ' Sweatshirts', ' Modern Pants', ' Soccer Shoe', ' Rash Guard', ' Tech Pants', ' Dry Fit V-Nick', ' Hoodies'], [' Running Shoe', ' Swimming Shirt', ' Rash Guard', ' Tech Pants', ' Hoodies', ' Dry Fit V-Nick'], [' Running Shoe', ' Swimming Shirt', ' Socks', ' Sweatshirts', ' Modern Pants', ' Dry Fit V-Nick', ' Rash Guard', ' Tech Pants'], [' Swimming Shirt', ' Soccer Shoe', ' Hoodies', ' Dry Fit V-Nick', ' Tech Pants', ' Rash Guard'], [' Running Shoe', ' Socks'], [' Socks', ' Sweatshirts', ' Modern Pants', ' Soccer Shoe', ' Hoodies', ' Rash Guard', ' Tech Pants', ' Dry Fit V-Nick'], [' Running Shoe', ' Swimming Shirt', ' Rash Guard'], [' Running Shoe', ' Swimming Shirt', ' Socks', ' Sweatshirts', ' Modern Pants', ' Soccer Shoe', ' Hoodies', ' Tech Pants', ' Rash Guard', ' Dry Fit V-Nick']] \n",
            "\n"
          ]
        }
      ]
    },
    {
      "cell_type": "code",
      "metadata": {
        "colab": {
          "base_uri": "https://localhost:8080/",
          "height": 253
        },
        "id": "twwpF7PnyZcc",
        "outputId": "21540347-4dc3-48c7-9e10-090af4eb47a0"
      },
      "source": [
        "## Declaring all the required variables\n",
        "min_sup = int(input(\"Enter Minimum Support:\"))\n",
        "print(\"\\n\")\n",
        "min_conf = int(input(\"Enter Minimum Confidence:\"))\n",
        "print(\"\\n\")"
      ],
      "execution_count": null,
      "outputs": [
        {
          "name": "stdout",
          "output_type": "stream",
          "text": [
            "Enter Minimum Support:\n"
          ]
        },
        {
          "output_type": "error",
          "ename": "ValueError",
          "evalue": "ignored",
          "traceback": [
            "\u001b[0;31m---------------------------------------------------------------------------\u001b[0m",
            "\u001b[0;31mValueError\u001b[0m                                Traceback (most recent call last)",
            "\u001b[0;32m<ipython-input-33-0cac196d9ef9>\u001b[0m in \u001b[0;36m<module>\u001b[0;34m()\u001b[0m\n\u001b[1;32m      1\u001b[0m \u001b[0;31m## Declaring all the required variables\u001b[0m\u001b[0;34m\u001b[0m\u001b[0;34m\u001b[0m\u001b[0;34m\u001b[0m\u001b[0m\n\u001b[0;32m----> 2\u001b[0;31m \u001b[0mmin_sup\u001b[0m \u001b[0;34m=\u001b[0m \u001b[0mint\u001b[0m\u001b[0;34m(\u001b[0m\u001b[0minput\u001b[0m\u001b[0;34m(\u001b[0m\u001b[0;34m\"Enter Minimum Support:\"\u001b[0m\u001b[0;34m)\u001b[0m\u001b[0;34m)\u001b[0m\u001b[0;34m\u001b[0m\u001b[0;34m\u001b[0m\u001b[0m\n\u001b[0m\u001b[1;32m      3\u001b[0m \u001b[0mprint\u001b[0m\u001b[0;34m(\u001b[0m\u001b[0;34m\"\\n\"\u001b[0m\u001b[0;34m)\u001b[0m\u001b[0;34m\u001b[0m\u001b[0;34m\u001b[0m\u001b[0m\n\u001b[1;32m      4\u001b[0m \u001b[0mmin_conf\u001b[0m \u001b[0;34m=\u001b[0m \u001b[0mint\u001b[0m\u001b[0;34m(\u001b[0m\u001b[0minput\u001b[0m\u001b[0;34m(\u001b[0m\u001b[0;34m\"Enter Minimum Confidence:\"\u001b[0m\u001b[0;34m)\u001b[0m\u001b[0;34m)\u001b[0m\u001b[0;34m\u001b[0m\u001b[0;34m\u001b[0m\u001b[0m\n\u001b[1;32m      5\u001b[0m \u001b[0mprint\u001b[0m\u001b[0;34m(\u001b[0m\u001b[0;34m\"\\n\"\u001b[0m\u001b[0;34m)\u001b[0m\u001b[0;34m\u001b[0m\u001b[0;34m\u001b[0m\u001b[0m\n",
            "\u001b[0;31mValueError\u001b[0m: invalid literal for int() with base 10: ''"
          ]
        }
      ]
    },
    {
      "cell_type": "code",
      "metadata": {
        "id": "YpwOxFxRygHa"
      },
      "source": [
        "def uniquelist(final_data):\n",
        "    mylist = []\n",
        "    for i in final_data:\n",
        "        for j in range(len(i)):\n",
        "            mylist.append(i[j])\n",
        "    uniquelist = set(mylist)\n",
        "    uniquelist = sorted(uniquelist)\n",
        "    return uniquelist, mylist\n",
        "    ##we used mylist to accomodate whole list without [] into a single list so that we can get count of all items. \n",
        "    ##unique list is here to get only the unique items from mylist"
      ],
      "execution_count": null,
      "outputs": []
    },
    {
      "cell_type": "code",
      "metadata": {
        "id": "Oi0I_7tZw3jB"
      },
      "source": [
        ""
      ],
      "execution_count": null,
      "outputs": []
    },
    {
      "cell_type": "code",
      "metadata": {
        "id": "_ng8fnQmykAw"
      },
      "source": [
        "## Performing Iteration 1\n",
        "def iteration1(mylist, uniquelist):\n",
        "    firstdict = {}\n",
        "    for i in uniquelist:\n",
        "        firstdict[i] = mylist.count(i)\n",
        "    return firstdict\n",
        "    ##key:value, where, we need to get key from uniquelist and value in integer from mylist"
      ],
      "execution_count": null,
      "outputs": []
    },
    {
      "cell_type": "code",
      "metadata": {
        "id": "ceorjGUsyoPn"
      },
      "source": [
        "## Eliminate those items not satisfying minimum support\n",
        "def support_eliminate(firstdict):\n",
        "    keylist = list(firstdict.keys())\n",
        "    valuelist = list(firstdict.values())\n",
        "    mydict2 = {}\n",
        "    # support_dict = {}\n",
        "    count = 0\n",
        "\n",
        "    for i in valuelist:\n",
        "        support = round(i * 100 / total_trxns, 2)\n",
        "        count += 1\n",
        "        # print(support, min_sup)\n",
        "        if support >= min_sup:\n",
        "            # firstdict.pop(keylist[count])\n",
        "            mydict2[keylist[count - 1]] = i\n",
        "            # support_dict[keylist[count-1]] = support\n",
        "    return mydict2"
      ],
      "execution_count": null,
      "outputs": []
    },
    {
      "cell_type": "code",
      "metadata": {
        "id": "YjqHLzG6yzqt"
      },
      "source": [
        "## Creating combinations of items in Iteration 1\n",
        "def create_combinations1(mydict2, n):\n",
        "    comb = combinations(list(mydict2.keys()), n)\n",
        "    ##it will create list of keys only\n",
        "    up_comb = []\n",
        "    for i in comb:\n",
        "        up_comb.append(i)\n",
        "\n",
        "    return up_comb"
      ],
      "execution_count": null,
      "outputs": []
    },
    {
      "cell_type": "code",
      "metadata": {
        "id": "_BKoeb3sy2-2"
      },
      "source": [
        "## Performing Iteration 2\n",
        "def iter2(final_data, up_comb):\n",
        "    updated_dict = {}\n",
        "    for i in range(len(final_data)):\n",
        "        c2=0\n",
        "        for j in range(len(up_comb)):\n",
        "            if (up_comb[j][0] and up_comb[j][1]) in final_data[i]:\n",
        "                c2+=1\n",
        "                updated_dict[up_comb[j]] = c2\n",
        "    return updated_dict"
      ],
      "execution_count": null,
      "outputs": []
    },
    {
      "cell_type": "code",
      "metadata": {
        "id": "YyjOrfCUy7Pk"
      },
      "source": [
        "## Creating combinations of items in Iteration 2\n",
        "def create_combinations2(targlist, n):\n",
        "    comb = combinations(targlist, n)\n",
        "    up_comb = []\n",
        "    for i in comb:\n",
        "        up_comb.append(i)\n",
        "\n",
        "    return up_comb"
      ],
      "execution_count": null,
      "outputs": []
    },
    {
      "cell_type": "code",
      "metadata": {
        "id": "1mLJ5eVfy-Dp"
      },
      "source": [
        "## Performing Iteration 3\n",
        "def iter3(final_data, combs_3):\n",
        "    updated_dict3 = {}\n",
        "    for i in range(len(final_data)):\n",
        "        c2=0\n",
        "        for j in range(len(combs_3)):\n",
        "            if (combs_3[j][0] and combs_3[j][1] and combs_3[j][2]) in final_data[i]:\n",
        "              c2= c2+1\n",
        "              updated_dict3[combs_3[j]] = c2\n",
        "\n",
        "    return updated_dict3"
      ],
      "execution_count": null,
      "outputs": []
    },
    {
      "cell_type": "code",
      "metadata": {
        "id": "ETa4jJhIzA2_"
      },
      "source": [
        "## List of Frequent itemsets and Association rules\n",
        "def assoc_rules(highkey, highval):\n",
        "    support_dict = {}\n",
        "    count = 0\n",
        "    item_set = set(highkey)\n",
        "    ##we created set here because we have done set-set in right item\n",
        "\n",
        "    comb2s = combinations(highkey, 2)\n",
        "    for i in comb2s:\n",
        "        print(\"Association Rule for Pair - \", i)\n",
        "        print(\"__Rule__\", \"__Confidence__\")\n",
        "        i = tuple(sorted(i))\n",
        "        #when we sort it comes in list form that is why we created this also in tuple\n",
        "        left_item = i\n",
        "        right_item = tuple(item_set - set(i))\n",
        "        ##we created tuple here as we can't call items from set\n",
        "        #rep: {B,C}->{C}\n",
        "\n",
        "        # print(left_item, \"=>\" ,right_item)\n",
        "\n",
        "        denom2 = sup_elim2[i]\n",
        "        #denom2 because it is combo of 2,2\n",
        "        conf = (highval // denom2)\n",
        "\n",
        "        if conf >= min_conf:\n",
        "            print(left_item, \"=>\", right_item, conf, '%', \"This Rule is Acceptable\")\n",
        "        else:\n",
        "            print(left_item, \"=>\", right_item, conf, '%', \"This Rule is Rejected\")\n",
        "\n",
        "\n",
        "    comb1s = highkey\n",
        "    for i in comb1s:\n",
        "        print(\"Association Rule for Pair - \", i)\n",
        "        print(\"__Rule__\", \"__Confidence__\")\n",
        "\n",
        "        left_item = i\n",
        "        right_item = tuple(item_set - set(i))\n",
        "        denom1 = sup_elim1[i]\n",
        "        conf1 = highval // denom1\n",
        "        # print(left_item, right_item)\n",
        "\n",
        "        if conf1 >= min_conf:\n",
        "            print(left_item, \"=>\", right_item, conf1, '%', \"This Rule is Acceptable\")\n",
        "        else:\n",
        "            print(left_item, \"=>\", right_item, conf1, '%', \"This Rule is Rejected\")\n",
        "    print()"
      ],
      "execution_count": null,
      "outputs": []
    },
    {
      "cell_type": "code",
      "metadata": {
        "id": "YqCb-RgUzGIM",
        "colab": {
          "base_uri": "https://localhost:8080/"
        },
        "outputId": "ae388c82-8762-4657-a308-05cc71b9d8aa"
      },
      "source": [
        "#Main()\n",
        "total_trxns = len(final_data)\n",
        "\n",
        "uniques, full_list = uniquelist(final_data)\n",
        "\n",
        "iteration1 = iteration1(full_list, uniques)\n",
        "\n",
        "sup_elim1 = support_eliminate(iteration1)\n",
        "\n",
        "print(\"\\n\",\"This is the result after first iteration:\", \"\\n\", \"\\n\", sup_elim1, '\\n')\n",
        "\n",
        "\n",
        "new_combs = create_combinations1(sup_elim1, 2)\n",
        "\n",
        "iteration2 = iter2(final_data, new_combs)\n",
        "\n",
        "sup_elim2 = support_eliminate(iteration2)\n",
        "\n",
        "print(\"\\n\",\"This is the result after second iteration:\", \"\\n\", \"\\n\", sup_elim2, '\\n')\n",
        "\n",
        "mylist2iter = list(sup_elim2.keys())\n",
        "\n",
        "##used this to put unique pairs in tuple to make it in a single list\n",
        "listafter2 = []\n",
        "for i in range(len(mylist2iter)):\n",
        "    listafter2.append(mylist2iter[i][0])\n",
        "    listafter2.append(mylist2iter[i][1])\n",
        "    #o,1 because we have two items and appended them in list after 2\n",
        "\n",
        "listafter2 = set(listafter2)\n",
        "\n",
        "combs_3 = create_combinations2(listafter2, 3)\n",
        "\n",
        "iteration3 = iter3(final_data, combs_3)\n",
        "\n",
        "sup_elim3 = support_eliminate(iteration3)\n",
        "\n",
        "print(\"\\n\",\"This is the result after third iteration:\", \"\\n\", \"\\n\", sup_elim3, '\\n')\n",
        "\n",
        "\n",
        "highkey = tuple(sorted(list(iteration3.keys())[list(iteration3.values()).index(max(iteration3.values()))]))\n",
        "#sort, store as  tuple\n",
        "highval = max(iteration3.values())\n",
        "\n",
        "assoc_rules(highkey, highval)\n"
      ],
      "execution_count": null,
      "outputs": [
        {
          "output_type": "stream",
          "name": "stdout",
          "text": [
            "\n",
            " This is the result after first iteration: \n",
            " \n",
            " {' Dry Fit V-Nick': 9, ' Hoodies': 8, ' Modern Pants': 10, ' Rash Guard': 12, ' Running Shoe': 14, ' Soccer Shoe': 6, ' Socks': 13, ' Sweatshirts': 13, ' Swimming Shirt': 11, ' Tech Pants': 9} \n",
            "\n",
            "\n",
            " This is the result after second iteration: \n",
            " \n",
            " {(' Dry Fit V-Nick', ' Running Shoe'): 4, (' Dry Fit V-Nick', ' Socks'): 6, (' Dry Fit V-Nick', ' Sweatshirts'): 7, (' Hoodies', ' Modern Pants'): 10, (' Hoodies', ' Running Shoe'): 12, (' Hoodies', ' Socks'): 14, (' Hoodies', ' Sweatshirts'): 15, (' Modern Pants', ' Running Shoe'): 19, (' Modern Pants', ' Socks'): 21, (' Modern Pants', ' Sweatshirts'): 22, (' Rash Guard', ' Running Shoe'): 25, (' Rash Guard', ' Socks'): 27, (' Rash Guard', ' Sweatshirts'): 28, (' Running Shoe', ' Socks'): 32, (' Running Shoe', ' Sweatshirts'): 33, (' Soccer Shoe', ' Socks'): 36, (' Soccer Shoe', ' Sweatshirts'): 37, (' Socks', ' Sweatshirts'): 40, (' Dry Fit V-Nick', ' Soccer Shoe'): 5, (' Hoodies', ' Soccer Shoe'): 13, (' Modern Pants', ' Soccer Shoe'): 20, (' Rash Guard', ' Soccer Shoe'): 26, (' Running Shoe', ' Soccer Shoe'): 31, (' Dry Fit V-Nick', ' Tech Pants'): 9, (' Hoodies', ' Rash Guard'): 11, (' Hoodies', ' Tech Pants'): 17, (' Modern Pants', ' Rash Guard'): 18, (' Modern Pants', ' Tech Pants'): 24, (' Rash Guard', ' Tech Pants'): 30, (' Running Shoe', ' Tech Pants'): 35, (' Soccer Shoe', ' Tech Pants'): 39, (' Socks', ' Tech Pants'): 42, (' Sweatshirts', ' Tech Pants'): 44, (' Swimming Shirt', ' Tech Pants'): 45, (' Dry Fit V-Nick', ' Swimming Shirt'): 8, (' Hoodies', ' Swimming Shirt'): 16, (' Modern Pants', ' Swimming Shirt'): 23, (' Rash Guard', ' Swimming Shirt'): 29, (' Running Shoe', ' Swimming Shirt'): 34, (' Soccer Shoe', ' Swimming Shirt'): 38, (' Socks', ' Swimming Shirt'): 41, (' Sweatshirts', ' Swimming Shirt'): 43} \n",
            "\n",
            "\n",
            " This is the result after third iteration: \n",
            " \n",
            " {(' Soccer Shoe', ' Dry Fit V-Nick', ' Sweatshirts'): 4, (' Soccer Shoe', ' Dry Fit V-Nick', ' Socks'): 5, (' Soccer Shoe', ' Dry Fit V-Nick', ' Running Shoe'): 7, (' Soccer Shoe', ' Swimming Shirt', ' Modern Pants'): 10, (' Soccer Shoe', ' Swimming Shirt', ' Sweatshirts'): 11, (' Soccer Shoe', ' Swimming Shirt', ' Socks'): 12, (' Soccer Shoe', ' Swimming Shirt', ' Running Shoe'): 14, (' Soccer Shoe', ' Hoodies', ' Modern Pants'): 16, (' Soccer Shoe', ' Hoodies', ' Sweatshirts'): 17, (' Soccer Shoe', ' Hoodies', ' Socks'): 18, (' Soccer Shoe', ' Hoodies', ' Running Shoe'): 20, (' Soccer Shoe', ' Modern Pants', ' Sweatshirts'): 22, (' Soccer Shoe', ' Modern Pants', ' Socks'): 23, (' Soccer Shoe', ' Modern Pants', ' Running Shoe'): 25, (' Soccer Shoe', ' Sweatshirts', ' Socks'): 27, (' Soccer Shoe', ' Sweatshirts', ' Running Shoe'): 29, (' Soccer Shoe', ' Socks', ' Running Shoe'): 32, (' Soccer Shoe', ' Tech Pants', ' Running Shoe'): 34, (' Dry Fit V-Nick', ' Swimming Shirt', ' Modern Pants'): 38, (' Dry Fit V-Nick', ' Swimming Shirt', ' Sweatshirts'): 39, (' Dry Fit V-Nick', ' Swimming Shirt', ' Socks'): 40, (' Dry Fit V-Nick', ' Swimming Shirt', ' Running Shoe'): 42, (' Dry Fit V-Nick', ' Hoodies', ' Modern Pants'): 44, (' Dry Fit V-Nick', ' Hoodies', ' Sweatshirts'): 45, (' Dry Fit V-Nick', ' Hoodies', ' Socks'): 46, (' Dry Fit V-Nick', ' Hoodies', ' Running Shoe'): 48, (' Dry Fit V-Nick', ' Modern Pants', ' Sweatshirts'): 50, (' Dry Fit V-Nick', ' Modern Pants', ' Socks'): 51, (' Dry Fit V-Nick', ' Modern Pants', ' Running Shoe'): 53, (' Dry Fit V-Nick', ' Sweatshirts', ' Socks'): 55, (' Dry Fit V-Nick', ' Sweatshirts', ' Running Shoe'): 57, (' Dry Fit V-Nick', ' Socks', ' Running Shoe'): 60, (' Dry Fit V-Nick', ' Tech Pants', ' Running Shoe'): 62, (' Swimming Shirt', ' Hoodies', ' Modern Pants'): 65, (' Swimming Shirt', ' Hoodies', ' Sweatshirts'): 66, (' Swimming Shirt', ' Hoodies', ' Socks'): 67, (' Swimming Shirt', ' Hoodies', ' Running Shoe'): 69, (' Swimming Shirt', ' Modern Pants', ' Sweatshirts'): 71, (' Swimming Shirt', ' Modern Pants', ' Socks'): 72, (' Swimming Shirt', ' Modern Pants', ' Running Shoe'): 74, (' Swimming Shirt', ' Sweatshirts', ' Socks'): 76, (' Swimming Shirt', ' Sweatshirts', ' Running Shoe'): 78, (' Swimming Shirt', ' Socks', ' Running Shoe'): 81, (' Swimming Shirt', ' Tech Pants', ' Running Shoe'): 83, (' Hoodies', ' Modern Pants', ' Sweatshirts'): 86, (' Hoodies', ' Modern Pants', ' Socks'): 87, (' Hoodies', ' Modern Pants', ' Running Shoe'): 89, (' Hoodies', ' Sweatshirts', ' Socks'): 91, (' Hoodies', ' Sweatshirts', ' Running Shoe'): 93, (' Hoodies', ' Socks', ' Running Shoe'): 96, (' Hoodies', ' Tech Pants', ' Running Shoe'): 98, (' Modern Pants', ' Sweatshirts', ' Socks'): 101, (' Modern Pants', ' Sweatshirts', ' Running Shoe'): 103, (' Modern Pants', ' Socks', ' Running Shoe'): 106, (' Modern Pants', ' Tech Pants', ' Running Shoe'): 108, (' Sweatshirts', ' Socks', ' Running Shoe'): 112, (' Sweatshirts', ' Tech Pants', ' Running Shoe'): 114, (' Socks', ' Tech Pants', ' Running Shoe'): 117, (' Soccer Shoe', ' Dry Fit V-Nick', ' Tech Pants'): 6, (' Soccer Shoe', ' Dry Fit V-Nick', ' Rash Guard'): 8, (' Soccer Shoe', ' Swimming Shirt', ' Hoodies'): 9, (' Soccer Shoe', ' Swimming Shirt', ' Tech Pants'): 13, (' Soccer Shoe', ' Swimming Shirt', ' Rash Guard'): 15, (' Soccer Shoe', ' Hoodies', ' Tech Pants'): 19, (' Soccer Shoe', ' Hoodies', ' Rash Guard'): 21, (' Soccer Shoe', ' Modern Pants', ' Tech Pants'): 24, (' Soccer Shoe', ' Modern Pants', ' Rash Guard'): 26, (' Soccer Shoe', ' Sweatshirts', ' Tech Pants'): 28, (' Soccer Shoe', ' Sweatshirts', ' Rash Guard'): 30, (' Soccer Shoe', ' Socks', ' Tech Pants'): 31, (' Soccer Shoe', ' Socks', ' Rash Guard'): 33, (' Soccer Shoe', ' Tech Pants', ' Rash Guard'): 35, (' Soccer Shoe', ' Running Shoe', ' Rash Guard'): 36, (' Dry Fit V-Nick', ' Swimming Shirt', ' Hoodies'): 37, (' Dry Fit V-Nick', ' Swimming Shirt', ' Tech Pants'): 41, (' Dry Fit V-Nick', ' Swimming Shirt', ' Rash Guard'): 43, (' Dry Fit V-Nick', ' Hoodies', ' Tech Pants'): 47, (' Dry Fit V-Nick', ' Hoodies', ' Rash Guard'): 49, (' Dry Fit V-Nick', ' Modern Pants', ' Tech Pants'): 52, (' Dry Fit V-Nick', ' Modern Pants', ' Rash Guard'): 54, (' Dry Fit V-Nick', ' Sweatshirts', ' Tech Pants'): 56, (' Dry Fit V-Nick', ' Sweatshirts', ' Rash Guard'): 58, (' Dry Fit V-Nick', ' Socks', ' Tech Pants'): 59, (' Dry Fit V-Nick', ' Socks', ' Rash Guard'): 61, (' Dry Fit V-Nick', ' Tech Pants', ' Rash Guard'): 63, (' Dry Fit V-Nick', ' Running Shoe', ' Rash Guard'): 64, (' Swimming Shirt', ' Hoodies', ' Tech Pants'): 68, (' Swimming Shirt', ' Hoodies', ' Rash Guard'): 70, (' Swimming Shirt', ' Modern Pants', ' Tech Pants'): 73, (' Swimming Shirt', ' Modern Pants', ' Rash Guard'): 75, (' Swimming Shirt', ' Sweatshirts', ' Tech Pants'): 77, (' Swimming Shirt', ' Sweatshirts', ' Rash Guard'): 79, (' Swimming Shirt', ' Socks', ' Tech Pants'): 80, (' Swimming Shirt', ' Socks', ' Rash Guard'): 82, (' Swimming Shirt', ' Tech Pants', ' Rash Guard'): 84, (' Swimming Shirt', ' Running Shoe', ' Rash Guard'): 85, (' Hoodies', ' Modern Pants', ' Tech Pants'): 88, (' Hoodies', ' Modern Pants', ' Rash Guard'): 90, (' Hoodies', ' Sweatshirts', ' Tech Pants'): 92, (' Hoodies', ' Sweatshirts', ' Rash Guard'): 94, (' Hoodies', ' Socks', ' Tech Pants'): 95, (' Hoodies', ' Socks', ' Rash Guard'): 97, (' Hoodies', ' Tech Pants', ' Rash Guard'): 99, (' Hoodies', ' Running Shoe', ' Rash Guard'): 100, (' Modern Pants', ' Sweatshirts', ' Tech Pants'): 102, (' Modern Pants', ' Sweatshirts', ' Rash Guard'): 104, (' Modern Pants', ' Socks', ' Tech Pants'): 105, (' Modern Pants', ' Socks', ' Rash Guard'): 107, (' Modern Pants', ' Tech Pants', ' Rash Guard'): 109, (' Modern Pants', ' Running Shoe', ' Rash Guard'): 110, (' Sweatshirts', ' Socks', ' Tech Pants'): 111, (' Sweatshirts', ' Socks', ' Rash Guard'): 113, (' Sweatshirts', ' Tech Pants', ' Rash Guard'): 115, (' Sweatshirts', ' Running Shoe', ' Rash Guard'): 116, (' Socks', ' Tech Pants', ' Rash Guard'): 118, (' Socks', ' Running Shoe', ' Rash Guard'): 119, (' Tech Pants', ' Running Shoe', ' Rash Guard'): 120} \n",
            "\n",
            "Association Rule for Pair -  (' Rash Guard', ' Running Shoe')\n",
            "__Rule__ __Confidence__\n",
            "(' Rash Guard', ' Running Shoe') => (' Tech Pants',) 4 % This Rule is Rejected\n",
            "Association Rule for Pair -  (' Rash Guard', ' Tech Pants')\n",
            "__Rule__ __Confidence__\n",
            "(' Rash Guard', ' Tech Pants') => (' Running Shoe',) 4 % This Rule is Rejected\n",
            "Association Rule for Pair -  (' Running Shoe', ' Tech Pants')\n",
            "__Rule__ __Confidence__\n",
            "(' Running Shoe', ' Tech Pants') => (' Rash Guard',) 3 % This Rule is Rejected\n",
            "Association Rule for Pair -   Rash Guard\n",
            "__Rule__ __Confidence__\n",
            " Rash Guard => (' Tech Pants', ' Rash Guard', ' Running Shoe') 10 % This Rule is Acceptable\n",
            "Association Rule for Pair -   Running Shoe\n",
            "__Rule__ __Confidence__\n",
            " Running Shoe => (' Tech Pants', ' Rash Guard', ' Running Shoe') 8 % This Rule is Rejected\n",
            "Association Rule for Pair -   Tech Pants\n",
            "__Rule__ __Confidence__\n",
            " Tech Pants => (' Tech Pants', ' Rash Guard', ' Running Shoe') 13 % This Rule is Acceptable\n",
            "\n"
          ]
        }
      ]
    },
    {
      "cell_type": "code",
      "metadata": {
        "id": "WtDOJNlxz3Md"
      },
      "source": [
        ""
      ],
      "execution_count": null,
      "outputs": []
    }
  ]
}